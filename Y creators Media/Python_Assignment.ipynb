{
 "cells": [
  {
   "cell_type": "code",
   "execution_count": 16,
   "metadata": {},
   "outputs": [],
   "source": [
    "import pandas as pd\n",
    "import numpy as np\n",
    "\n",
    "\n",
    "file_path = r\"C:\\Users\\Welcome\\Downloads\\Python_Assignment.xlsx\""
   ]
  },
  {
   "cell_type": "markdown",
   "metadata": {},
   "source": [
    "#### table which contains all the unique students enrolled with the tuition provider in rows, and the % Marks he/she has obtained in each subject in columns. In case the student is not enrolled in a particular subject, the entry for that student should show \"NA\" for the particular subject"
   ]
  },
  {
   "cell_type": "code",
   "execution_count": 34,
   "metadata": {},
   "outputs": [],
   "source": [
    "maths_data = pd.read_excel(file_path, sheet_name = 'Maths')\n",
    "maths_data['% Maths'] = (maths_data['Theory Marks'] + maths_data['Numerical Marks'] + maths_data['Practical Marks'])/3 \n",
    "maths_data = maths_data[['Roll No', 'Class', '% Maths']]\n",
    "\n",
    "physics_data = pd.read_excel(file_path, sheet_name = 'Physics')\n",
    "physics_data['% Physics'] = (physics_data['Theory Marks'] + physics_data['Numerical Marks'] + physics_data['Practical Marks'])/3 \n",
    "physics_data = physics_data[['Roll No', 'Class', '% Physics']]\n",
    "\n",
    "hindi_data = pd.read_excel(file_path, sheet_name = 'Hindi')\n",
    "hindi_data['% Hindi'] = hindi_data['Marks']\n",
    "hindi_data = hindi_data[['Roll No', 'Class', '% Hindi']]\n",
    "\n",
    "economics_data = pd.read_excel(file_path, sheet_name = 'Economics')\n",
    "economics_data['% Economics'] = (economics_data['Theory Marks'] + economics_data['Numerical Marks'])/2 \n",
    "economics_data = economics_data[['Roll No', 'Class', '% Economics']]\n",
    "\n",
    "music_data = pd.read_excel(file_path, sheet_name = 'Music')\n",
    "music_data['% Music'] = (music_data['Theory Marks'] + music_data['Practical Marks'])/2 \n",
    "music_data = music_data[['Roll No', 'Class', '% Music']]\n"
   ]
  },
  {
   "cell_type": "code",
   "execution_count": 35,
   "metadata": {},
   "outputs": [],
   "source": [
    "data = pd.merge(maths_data, physics_data, on = ['Roll No', 'Class'], how = 'outer')\n",
    "data = pd.merge(data, hindi_data, on = ['Roll No', 'Class'], how = 'outer')\n",
    "data = pd.merge(data, economics_data, on = ['Roll No', 'Class'], how = 'outer')\n",
    "data = pd.merge(data, music_data, on = ['Roll No', 'Class'], how = 'outer')"
   ]
  },
  {
   "cell_type": "code",
   "execution_count": 36,
   "metadata": {},
   "outputs": [
    {
     "data": {
      "text/html": [
       "<div>\n",
       "<style scoped>\n",
       "    .dataframe tbody tr th:only-of-type {\n",
       "        vertical-align: middle;\n",
       "    }\n",
       "\n",
       "    .dataframe tbody tr th {\n",
       "        vertical-align: top;\n",
       "    }\n",
       "\n",
       "    .dataframe thead th {\n",
       "        text-align: right;\n",
       "    }\n",
       "</style>\n",
       "<table border=\"1\" class=\"dataframe\">\n",
       "  <thead>\n",
       "    <tr style=\"text-align: right;\">\n",
       "      <th></th>\n",
       "      <th>Roll No</th>\n",
       "      <th>Class</th>\n",
       "      <th>% Maths</th>\n",
       "      <th>% Physics</th>\n",
       "      <th>% Hindi</th>\n",
       "      <th>% Economics</th>\n",
       "      <th>% Music</th>\n",
       "    </tr>\n",
       "  </thead>\n",
       "  <tbody>\n",
       "    <tr>\n",
       "      <th>0</th>\n",
       "      <td>50</td>\n",
       "      <td>6</td>\n",
       "      <td>49.000000</td>\n",
       "      <td>77.666667</td>\n",
       "      <td>86.0</td>\n",
       "      <td>75.0</td>\n",
       "      <td>67.5</td>\n",
       "    </tr>\n",
       "    <tr>\n",
       "      <th>1</th>\n",
       "      <td>37</td>\n",
       "      <td>7</td>\n",
       "      <td>51.000000</td>\n",
       "      <td>66.666667</td>\n",
       "      <td>87.0</td>\n",
       "      <td>72.5</td>\n",
       "      <td>62.5</td>\n",
       "    </tr>\n",
       "    <tr>\n",
       "      <th>2</th>\n",
       "      <td>1</td>\n",
       "      <td>8</td>\n",
       "      <td>56.666667</td>\n",
       "      <td>65.333333</td>\n",
       "      <td>NaN</td>\n",
       "      <td>78.5</td>\n",
       "      <td>59.0</td>\n",
       "    </tr>\n",
       "    <tr>\n",
       "      <th>3</th>\n",
       "      <td>47</td>\n",
       "      <td>6</td>\n",
       "      <td>64.333333</td>\n",
       "      <td>57.000000</td>\n",
       "      <td>92.0</td>\n",
       "      <td>NaN</td>\n",
       "      <td>NaN</td>\n",
       "    </tr>\n",
       "    <tr>\n",
       "      <th>4</th>\n",
       "      <td>30</td>\n",
       "      <td>8</td>\n",
       "      <td>80.333333</td>\n",
       "      <td>59.000000</td>\n",
       "      <td>99.0</td>\n",
       "      <td>52.5</td>\n",
       "      <td>60.0</td>\n",
       "    </tr>\n",
       "  </tbody>\n",
       "</table>\n",
       "</div>"
      ],
      "text/plain": [
       "   Roll No  Class    % Maths  % Physics  % Hindi  % Economics  % Music\n",
       "0       50      6  49.000000  77.666667     86.0         75.0     67.5\n",
       "1       37      7  51.000000  66.666667     87.0         72.5     62.5\n",
       "2        1      8  56.666667  65.333333      NaN         78.5     59.0\n",
       "3       47      6  64.333333  57.000000     92.0          NaN      NaN\n",
       "4       30      8  80.333333  59.000000     99.0         52.5     60.0"
      ]
     },
     "execution_count": 36,
     "metadata": {},
     "output_type": "execute_result"
    }
   ],
   "source": [
    "data.head()"
   ]
  },
  {
   "cell_type": "markdown",
   "metadata": {},
   "source": [
    "### Question 2 \n"
   ]
  },
  {
   "cell_type": "markdown",
   "metadata": {},
   "source": [
    "###### How many students in total are enrolled with the tuition provider?"
   ]
  },
  {
   "cell_type": "code",
   "execution_count": 21,
   "metadata": {},
   "outputs": [],
   "source": [
    "data = data.sort_values(by=['Roll No', 'Class'], ascending=[True, False])"
   ]
  },
  {
   "cell_type": "code",
   "execution_count": 23,
   "metadata": {},
   "outputs": [
    {
     "name": "stdout",
     "output_type": "stream",
     "text": [
      "319\n"
     ]
    }
   ],
   "source": [
    "no_of_students = len(data)\n",
    "print(no_of_students)"
   ]
  },
  {
   "cell_type": "markdown",
   "metadata": {},
   "source": [
    "#### How many students have taken all the five subjects?"
   ]
  },
  {
   "cell_type": "code",
   "execution_count": 41,
   "metadata": {},
   "outputs": [
    {
     "ename": "KeyError",
     "evalue": "' '",
     "output_type": "error",
     "traceback": [
      "\u001b[1;31m---------------------------------------------------------------------------\u001b[0m",
      "\u001b[1;31mKeyError\u001b[0m                                  Traceback (most recent call last)",
      "\u001b[1;32m<ipython-input-41-7507cada8bdf>\u001b[0m in \u001b[0;36m<module>\u001b[1;34m()\u001b[0m\n\u001b[0;32m      1\u001b[0m \u001b[0menrolled_all_subjects\u001b[0m \u001b[1;33m=\u001b[0m \u001b[0mlen\u001b[0m\u001b[1;33m(\u001b[0m\u001b[0mdata\u001b[0m\u001b[1;33m.\u001b[0m\u001b[0mdropna\u001b[0m\u001b[1;33m(\u001b[0m\u001b[1;33m)\u001b[0m\u001b[1;33m)\u001b[0m\u001b[1;33m\u001b[0m\u001b[0m\n\u001b[1;32m----> 2\u001b[1;33m \u001b[0mprint\u001b[0m\u001b[1;33m(\u001b[0m\u001b[1;34m\"{ } students have taken all the five subjects\"\u001b[0m\u001b[1;33m.\u001b[0m\u001b[0mformat\u001b[0m\u001b[1;33m(\u001b[0m\u001b[0menrolled_all_subjects\u001b[0m\u001b[1;33m)\u001b[0m\u001b[1;33m)\u001b[0m\u001b[1;33m\u001b[0m\u001b[0m\n\u001b[0m",
      "\u001b[1;31mKeyError\u001b[0m: ' '"
     ]
    }
   ],
   "source": [
    "enrolled_all_subjects = len(data.dropna())\n",
    "print(\"{ } students have taken all the five subjects \".format(enrolled_all_subjects))"
   ]
  },
  {
   "cell_type": "markdown",
   "metadata": {},
   "source": [
    "#### Which class has the most number of students?"
   ]
  },
  {
   "cell_type": "code",
   "execution_count": 27,
   "metadata": {},
   "outputs": [
    {
     "name": "stdout",
     "output_type": "stream",
     "text": [
      "   CLass  Students Count\n",
      "4     10              10\n"
     ]
    }
   ],
   "source": [
    "data_copy = data\n",
    "classwise_students_count_data = data_copy.dropna().groupby('Class')['Roll No'].count().reset_index()\n",
    "classwise_students_count_data.columns = ['CLass', 'Students Count']\n",
    "max_num = classwise_students_count_data['Students Count'].max()\n",
    "classwise_students_max = classwise_students_count_data[classwise_students_count_data['Students Count'] == max_num]\n",
    "print(classwise_students_max)"
   ]
  },
  {
   "cell_type": "markdown",
   "metadata": {},
   "source": [
    "#### Which class has the highest average percentage of marks across all subjects?"
   ]
  },
  {
   "cell_type": "code",
   "execution_count": 30,
   "metadata": {},
   "outputs": [],
   "source": [
    "data[\"Total Subjects Enrolled\"] = [5 - data.iloc[i,:].isnull().sum() for i in range(len(data))]\n",
    "copy_data = data.copy()\n",
    "copy_data = copy_data.fillna(0)\n",
    "copy_data['Avg Subjects'] = (copy_data['% Maths']+copy_data['% Physics'] + copy_data['% Hindi']+copy_data['% Economics'])/copy_data['Total Subjects Enrolled']\n",
    "copy_data['Avg Subjects'] = copy_data['Avg Subjects'].apply(int)\n",
    "max_avg_sub_data = copy_data.groupby('Class')['Avg Subjects'].mean().reset_index()\n",
    "max_avg_sub_data = max_avg_sub_data.sort_values(by = 'Avg Subjects', ascending = False).head(1)"
   ]
  },
  {
   "cell_type": "code",
   "execution_count": 39,
   "metadata": {},
   "outputs": [
    {
     "name": "stdout",
     "output_type": "stream",
     "text": [
      "class has the highest average percentage of marks across all subjects : \n",
      "   Class  Avg Subjects\n",
      "0      5     71.842105\n"
     ]
    }
   ],
   "source": [
    "print(\"class has the highest average percentage of marks across all subjects : \")\n",
    "print(max_avg_sub_data)"
   ]
  },
  {
   "cell_type": "markdown",
   "metadata": {},
   "source": [
    "###### Which subject has the highest average percentage of marks across all classes?"
   ]
  },
  {
   "cell_type": "code",
   "execution_count": 32,
   "metadata": {},
   "outputs": [],
   "source": [
    "subject_percentage = {col:copy_data[copy_data[col]!=0][col].mean() for col in ['% Maths', '% Physics', '% Hindi', '% Economics']}\n",
    "highest_subject_percentage = {v:k for k, v in subject_percentage.items()}[max(subject_percentage.values())]"
   ]
  },
  {
   "cell_type": "code",
   "execution_count": 40,
   "metadata": {},
   "outputs": [
    {
     "name": "stdout",
     "output_type": "stream",
     "text": [
      "subject has the highest average percentage of marks across all classes: % Hindi\n"
     ]
    }
   ],
   "source": [
    "print(\"subject has the highest average percentage of marks across all classes: \" +  highest_subject_percentage)"
   ]
  },
  {
   "cell_type": "code",
   "execution_count": null,
   "metadata": {},
   "outputs": [],
   "source": []
  }
 ],
 "metadata": {
  "kernelspec": {
   "display_name": "Python 3",
   "language": "python",
   "name": "python3"
  },
  "language_info": {
   "codemirror_mode": {
    "name": "ipython",
    "version": 3
   },
   "file_extension": ".py",
   "mimetype": "text/x-python",
   "name": "python",
   "nbconvert_exporter": "python",
   "pygments_lexer": "ipython3",
   "version": "3.6.4"
  }
 },
 "nbformat": 4,
 "nbformat_minor": 2
}
